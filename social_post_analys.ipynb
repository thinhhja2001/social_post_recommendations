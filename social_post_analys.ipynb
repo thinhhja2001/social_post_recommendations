{
 "cells": [
  {
   "cell_type": "code",
   "execution_count": null,
   "metadata": {},
   "outputs": [],
   "source": [
    "import pandas as pd\n",
    "\n",
    "data = pd.read_json(\"social_post_data.json\")\n"
   ]
  },
  {
   "cell_type": "code",
   "execution_count": 28,
   "metadata": {},
   "outputs": [
    {
     "data": {
      "text/plain": [
       "['642e7e7077cb657d494bb584', '641b13763a63f32bb9d71460']"
      ]
     },
     "execution_count": 28,
     "metadata": {},
     "output_type": "execute_result"
    }
   ],
   "source": [
    "data[\"likedBy\"]\n",
    "\n",
    "user_id_set = {e for l in data['likedBy'] for e in l}\n",
    "\n",
    "# The above code is a short version for\n",
    "\n",
    "# my_set = set()\n",
    "# for l in data[\"likedBy\"]:\n",
    "#     for e in l:\n",
    "#         my_set.add(e)\n",
    "\n",
    "user_id_list = list(user_id_set)\n",
    "user_id_list\n"
   ]
  },
  {
   "cell_type": "code",
   "execution_count": 52,
   "metadata": {},
   "outputs": [],
   "source": [
    "def generate_social_post_data(data):\n",
    "    total_df = pd.DataFrame()\n",
    "    user_id_set = {e for l in data['likedBy'] for e in l}\n",
    "    user_id_list = list(user_id_set)\n",
    "    for index in range(len(data)):\n",
    "\n",
    "        post_data = data.iloc[index]\n",
    "        post_id = post_data['_id'].get(\"$oid\")\n",
    "        for user_id in user_id_list:\n",
    "\n",
    "            df = pd.DataFrame()\n",
    "            df['post_id'] = [post_id]\n",
    "            df['user_id'] = [user_id]\n",
    "            df['play'] = [1 if user_id in post_data['likedBy'] else 0]\n",
    "\n",
    "            total_df = pd.concat([total_df, df])\n",
    "    return total_df\n"
   ]
  },
  {
   "cell_type": "code",
   "execution_count": 51,
   "metadata": {},
   "outputs": [
    {
     "data": {
      "text/html": [
       "<div>\n",
       "<style scoped>\n",
       "    .dataframe tbody tr th:only-of-type {\n",
       "        vertical-align: middle;\n",
       "    }\n",
       "\n",
       "    .dataframe tbody tr th {\n",
       "        vertical-align: top;\n",
       "    }\n",
       "\n",
       "    .dataframe thead th {\n",
       "        text-align: right;\n",
       "    }\n",
       "</style>\n",
       "<table border=\"1\" class=\"dataframe\">\n",
       "  <thead>\n",
       "    <tr style=\"text-align: right;\">\n",
       "      <th></th>\n",
       "      <th>abc</th>\n",
       "    </tr>\n",
       "  </thead>\n",
       "  <tbody>\n",
       "    <tr>\n",
       "      <th>0</th>\n",
       "      <td>2</td>\n",
       "    </tr>\n",
       "  </tbody>\n",
       "</table>\n",
       "</div>"
      ],
      "text/plain": [
       "   abc\n",
       "0    2"
      ]
     },
     "execution_count": 51,
     "metadata": {},
     "output_type": "execute_result"
    }
   ],
   "source": [
    "dff = pd.DataFrame()\n",
    "dff['abc'] = [2]\n",
    "dff"
   ]
  },
  {
   "cell_type": "code",
   "execution_count": 56,
   "metadata": {},
   "outputs": [],
   "source": [
    "dataframe = generate_social_post_data(data=data)\n",
    "\n",
    "dataframe.set_index(\"post_id\",inplace=True)\n",
    "\n",
    "dataframe.to_csv(\"data.csv\")\n"
   ]
  }
 ],
 "metadata": {
  "kernelspec": {
   "display_name": "Python 3",
   "language": "python",
   "name": "python3"
  },
  "language_info": {
   "codemirror_mode": {
    "name": "ipython",
    "version": 3
   },
   "file_extension": ".py",
   "mimetype": "text/x-python",
   "name": "python",
   "nbconvert_exporter": "python",
   "pygments_lexer": "ipython3",
   "version": "3.11.2"
  },
  "orig_nbformat": 4
 },
 "nbformat": 4,
 "nbformat_minor": 2
}
